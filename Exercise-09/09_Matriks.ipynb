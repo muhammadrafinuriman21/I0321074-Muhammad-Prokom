{
 "cells": [
  {
   "cell_type": "markdown",
   "metadata": {},
   "source": [
    "# Exercise 09  \n",
    "### OPERASI MATRIKS  \n",
    "Silahkan lengkapi kode yang rumpang sesuai perintah yang diberikan.\n"
   ]
  },
  {
   "cell_type": "markdown",
   "metadata": {},
   "source": [
    "![](./image/1.png)"
   ]
  },
  {
   "cell_type": "code",
   "execution_count": 1,
   "metadata": {},
   "outputs": [
    {
     "name": "stdout",
     "output_type": "stream",
     "text": [
      "matriks A :\n",
      " [[78, 78], [78, 78]]\n",
      "matriks B :\n",
      " [[70, 70], [70, 70]]\n"
     ]
    }
   ],
   "source": [
    "A = [[78,78],\n",
    "     [78,78]]\n",
    "\n",
    "B = [[70, 70],\n",
    "     [70, 70]]\n",
    "\n",
    "print('matriks A :\\n', A)\n",
    "print('matriks B :\\n', B)"
   ]
  },
  {
   "cell_type": "markdown",
   "metadata": {},
   "source": [
    "Buatlah matriks menggunakan metode perulangan for dengan ketentuan sebagai berikut:\n",
    "* Matriks A berisi angka sebesar 4 setelah nim kalian. (ex: nim = 12, nilai matriks [16, 16],[16,16])\n",
    "* Matriks B berisi angka sebesar 4 sebelum nim kalian. (ex: nim = 12, nilai matriks [8, 8],[8,8])\n"
   ]
  },
  {
   "cell_type": "code",
   "execution_count": 18,
   "metadata": {},
   "outputs": [
    {
     "name": "stdout",
     "output_type": "stream",
     "text": [
      "Matriks A = [[78, 78], [78, 78]]\n",
      "Matriks B = [[70, 70], [70, 70]]\n"
     ]
    }
   ],
   "source": [
    "def create(matriks, nim):\n",
    "    for i in range(2):\n",
    "        for k in range(2):\n",
    "            matriks[i][k] = nim \n",
    "create(A, 78)\n",
    "create(B, 70)\n",
    "\n",
    "print('Matriks A =', A)\n",
    "print('Matriks B =', B)"
   ]
  },
  {
   "cell_type": "markdown",
   "metadata": {},
   "source": [
    "## KERJAKAN SOAL BERIKUT\n",
    "1. Buatlah program penjumlahan matriks A dan B.\n",
    "2. Buatlah program pengurangan matriks A dan B.\n",
    "3. Buatlah program perkalian matriks A dan B."
   ]
  },
  {
   "cell_type": "code",
   "execution_count": 21,
   "metadata": {},
   "outputs": [
    {
     "name": "stdout",
     "output_type": "stream",
     "text": [
      "[ 148 148 ]\n",
      "[ 148 148 ]\n"
     ]
    }
   ],
   "source": [
    "#SOAL-1\n",
    "A = [[78,78],\n",
    "     [78,78]]\n",
    "\n",
    "B = [[70,70],\n",
    "     [70,70]]\n",
    "\n",
    "for x in range(len(A)):\n",
    "     print('[', end = ' ')\n",
    "     for y in range(len((A)[0])):\n",
    "        print(A[x][y] + B[x][y], end = ' ')\n",
    "     print(']')"
   ]
  },
  {
   "cell_type": "code",
   "execution_count": 27,
   "metadata": {},
   "outputs": [
    {
     "name": "stdout",
     "output_type": "stream",
     "text": [
      "[ 8 8 ]\n",
      "[ 8 8 ]\n"
     ]
    }
   ],
   "source": [
    "#SOAL-2\n",
    "A = [[78,78],\n",
    "     [78,78]]\n",
    "\n",
    "B = [[70,70],\n",
    "     [70,70]]\n",
    "\n",
    "for x in range(len(A)):\n",
    "     print('[', end = ' ')\n",
    "     for y in range(len(A[0])):\n",
    "          print(A[x][y] - B[x][y], end = ' ')\n",
    "     print(']')\n"
   ]
  },
  {
   "cell_type": "code",
   "execution_count": 28,
   "metadata": {},
   "outputs": [
    {
     "name": "stdout",
     "output_type": "stream",
     "text": [
      "[10920, 10920]\n",
      "[10920, 10920]\n"
     ]
    }
   ],
   "source": [
    "#SOAL-3\n",
    "A = [[78,78],\n",
    "     [78,78]]\n",
    "\n",
    "B = [[70,70],\n",
    "     [70,70]]\n",
    "\n",
    "C = [[0,0],\n",
    "     [0,0]]\n",
    "\n",
    "for x in range(len(A)):\n",
    "    for y in range(len(B[0])):\n",
    "        for z in range(len(B)):\n",
    "            C[x][z] += A[x][y] * B[y][z]\n",
    "\n",
    "for hasil in C:\n",
    "    print(hasil)"
   ]
  },
  {
   "cell_type": "markdown",
   "metadata": {},
   "source": [
    "### Cara Pengumpulan\n",
    "\n",
    "1. Buka *New Terminal*\n",
    "2. Pastikan *path* Terminal adalah folder repositori kalian (NIM-Nama-Prokom).\n",
    "3. Tambahkan file yang akan ditrack dengan `git add <nama file>`. Nama file bisa diubah . (titik)  `git add .`yang artinya semua file dalam folder akan ditrack.\n",
    "4. Lakukan commit perubahan dengan `git commit -m <deskripsi>`.\n",
    "5. Lakukan push dengan `git push -u origin <nama branch>`. Nama branch dapat diketahui dengan `git branch`.\n",
    "6. Pastikan Exercise-02 telah terupload dan dapat diakses di repositori dengan mengaksesnya di browser."
   ]
  }
 ],
 "metadata": {
  "interpreter": {
   "hash": "b986696ba1f6afd701b0f780560c4bc8bf6d60726110b86d4e58b3c4892a96da"
  },
  "kernelspec": {
   "display_name": "Python 3.9.7 64-bit",
   "language": "python",
   "name": "python3"
  },
  "language_info": {
   "codemirror_mode": {
    "name": "ipython",
    "version": 3
   },
   "file_extension": ".py",
   "mimetype": "text/x-python",
   "name": "python",
   "nbconvert_exporter": "python",
   "pygments_lexer": "ipython3",
   "version": "3.9.7"
  },
  "orig_nbformat": 4
 },
 "nbformat": 4,
 "nbformat_minor": 2
}
