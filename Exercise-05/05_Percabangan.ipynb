{
 "cells": [
  {
   "cell_type": "markdown",
   "metadata": {},
   "source": [
    "***\n",
    "<h1 align=\"center\">Exercise 05</h1>\n",
    " \n",
    "***\n",
    "## If untuk Satu Kasus\n",
    "Buatlah kode seperti berikut:\n",
    "\n",
    "![](./images/05_If1Kasus.png)\n",
    "\n",
    "Masukkan bilangan bulat sesuai dengan **3 digit terakhir nim kalian**."
   ]
  },
  {
   "cell_type": "code",
   "execution_count": 1,
   "metadata": {},
   "outputs": [
    {
     "name": "stdout",
     "output_type": "stream",
     "text": [
      "74 adalah bilangan bulat positif\n"
     ]
    }
   ],
   "source": [
    "# Kerjakan di sini\n",
    "# Bilangan Bulat = NIM = 074 = 74\n",
    "bilangan = int(input(\"Masukan bilangan bulat: \"))\n",
    "if bilangan > 0:\n",
    "    print(bilangan, \"adalah bilangan bulat positif\")"
   ]
  },
  {
   "cell_type": "markdown",
   "metadata": {},
   "source": [
    "## If untuk Dua Kasus\n",
    "Buatlah kode seperti berikut:\n",
    "\n",
    "![](./images/05_If2Kasus.png)\n",
    "\n",
    "Masukkan bilangan bulat sesuai dengan **3 digit terakhir nim kalian**."
   ]
  },
  {
   "cell_type": "code",
   "execution_count": 2,
   "metadata": {},
   "outputs": [
    {
     "name": "stdout",
     "output_type": "stream",
     "text": [
      "74 adalah bilangan genap\n",
      "\n"
     ]
    }
   ],
   "source": [
    "# Kerjakan di sini\n",
    "# Bilangan Bulat = NIM = 074 = 74\n",
    "bilangan = int(input(\"Masukan bilangan bulat: \"))\n",
    "if bilangan %2 == 0:\n",
    "    print(\"%d adalah bilangan genap\" % bilangan)\n",
    "else:\n",
    "    print(\"%d adalah bilangan ganjil\" % bilangan)\n",
    "print()"
   ]
  },
  {
   "cell_type": "markdown",
   "metadata": {},
   "source": [
    "## If untuk Tiga Kasus atau Selebihnya\n",
    "Buatlah kode seperti berikut:\n",
    "\n",
    "![](./images/05_If3Kasus.png)\n",
    "\n",
    "Kemudian jalankan program yang telah dibuat."
   ]
  },
  {
   "cell_type": "code",
   "execution_count": 3,
   "metadata": {},
   "outputs": [
    {
     "name": "stdout",
     "output_type": "stream",
     "text": [
      "Masukkan koordinat!\n",
      "Koordinat (15,-99) berada pada kuadran IV\n",
      "\n"
     ]
    }
   ],
   "source": [
    "# Kerjakan di sini\n",
    "print(\"Masukkan koordinat!\")\n",
    "x = int(input(\"Masukkan nilai x: \"))\n",
    "y = int(input(\"Masukkan nilai y: \"))\n",
    "info = \"Koordinat (\" + str(x) + \",\" + str(y) + \") berada pada kuadran \"\n",
    "if x > 0 and y > 0:\n",
    "    print(info + \"I\")\n",
    "elif x < 0 and y > 0:\n",
    "    print(info + \"II\")\n",
    "elif x < 0 and y < 0:\n",
    "    print(info + \"III\")\n",
    "elif x > 0 and y < 0:\n",
    "    print(info + \"IV\")\n",
    "else:\n",
    "    pass\n",
    "print()"
   ]
  },
  {
   "cell_type": "markdown",
   "metadata": {},
   "source": [
    "Buatlah sebuah program yang dapat digunakan untuk mengecek apakah usia seorang WNI sudah cukup/belum untuk membuat KTP, dengan ketentuan sebagai berikut:\n",
    "* Program harus dapat menerima **input usia** pengguna program\n",
    "* Usia yang diperbolehkan untuk membuat KTP adalah **minimal 17 tahun**\n",
    "* Program menggunakan **percabangan**\n",
    "* Program memberi informasi kepada pengguna apakah ia sudah berhak untuk membuat KTP atau belum"
   ]
  },
  {
   "cell_type": "code",
   "execution_count": 4,
   "metadata": {},
   "outputs": [
    {
     "name": "stdout",
     "output_type": "stream",
     "text": [
      "======================= SELAMAT DATANG PADA ======================\n",
      "======= PROGRAM PENGECEKKAN KELULUSAN SYARAT PEMBUATAN KTP =======\n",
      "\n",
      "Berapakah usia Anda saat ini? (Ket : Isi dalam tahun)\n",
      "Usia Anda saat ini yaitu : 19 tahun\n",
      "\n",
      "==== MOHON TUNGGU SEBENTAR, HASIL SEDANG DIPROSES ====\n",
      "Syarat kelulusan dan keberhakan membuat KTP yaitu :\n",
      "Minimal berusia 17 tahun\n",
      "Karena saat ini Anda berusia 19 tahun, Maka dari itu\n",
      "\n",
      "====== HASIL AKHIR =====\n",
      "Selamat! Anda Telah Lulus Syarat dan Berhak Untuk Membuat KTP\n",
      "\n",
      "===== TERIMA KASIH =====\n"
     ]
    }
   ],
   "source": [
    "# Kerjakan di sini\n",
    "# PEMBUKA\n",
    "print(\"======================= SELAMAT DATANG PADA ======================\")\n",
    "print(\"======= PROGRAM PENGECEKKAN KELULUSAN SYARAT PEMBUATAN KTP =======\")\n",
    "print()\n",
    "\n",
    "# USER MENGINPUT USIA\n",
    "print(\"Berapakah usia Anda saat ini? (Ket : Isi dalam tahun)\")\n",
    "usia_WNI = int(input(\"Masukan Usia Anda : \"))\n",
    "print(\"Usia Anda saat ini yaitu :\", usia_WNI, \"tahun\")\n",
    "print()\n",
    "\n",
    "# PROGRAM MEMPROSES USIA USER\n",
    "print(\"==== MOHON TUNGGU SEBENTAR, HASIL SEDANG DIPROSES ====\")\n",
    "print(\"Syarat kelulusan dan keberhakan membuat KTP yaitu :\")\n",
    "print(\"Minimal berusia 17 tahun\")\n",
    "print(\"Karena saat ini Anda berusia\", usia_WNI, \"tahun, Maka dari itu\")\n",
    "print()\n",
    "\n",
    "# KESIMPULAN AKHIR\n",
    "print(\"====== HASIL AKHIR =====\")\n",
    "if usia_WNI >= 17:\n",
    "    print(\"Selamat! Anda Telah Lulus Syarat dan Berhak Untuk Membuat KTP\")\n",
    "else:\n",
    "    print(\"Mohon Maaf, Anda Tidak Lulus Syarat dan Belum Berhak Untuk Membuat KTP\")\n",
    "print()\n",
    "print(\"===== TERIMA KASIH =====\") "
   ]
  },
  {
   "cell_type": "markdown",
   "metadata": {},
   "source": [
    "### Cara Pengumpulan\n",
    "\n",
    "1. Buka *New Terminal*\n",
    "2. Pastikan *path* Terminal adalah folder repositori kalian (NIM-Nama-Prokom).\n",
    "3. Tambahkan file yang akan ditrack dengan `git add <nama file>`. Nama file bisa diubah . (titik)  `git add .`yang artinya semua file dalam folder akan ditrack.\n",
    "4. Lakukan commit perubahan dengan `git commit -m <deskripsi>`.\n",
    "5. Lakukan push dengan `git push -u origin <nama branch>`. Nama branch dapat diketahui dengan `git branch`.\n",
    "6. Pastikan Exercise-02 telah terupload dan dapat diakses di repositori dengan mengaksesnya di browser."
   ]
  },
  {
   "cell_type": "markdown",
   "metadata": {},
   "source": [
    "***\n",
    "<h1 align=\"center\">Well Done!!!</h1>\n",
    "\n",
    "***"
   ]
  }
 ],
 "metadata": {
  "interpreter": {
   "hash": "aaa2d32309aa7ce0f397d0e81903e050bd163767a22d0d109bd73d79b6cf4dfe"
  },
  "kernelspec": {
   "display_name": "Python 3.10.2 64-bit",
   "language": "python",
   "name": "python3"
  },
  "language_info": {
   "codemirror_mode": {
    "name": "ipython",
    "version": 3
   },
   "file_extension": ".py",
   "mimetype": "text/x-python",
   "name": "python",
   "nbconvert_exporter": "python",
   "pygments_lexer": "ipython3",
   "version": "3.9.7"
  },
  "orig_nbformat": 4
 },
 "nbformat": 4,
 "nbformat_minor": 2
}
