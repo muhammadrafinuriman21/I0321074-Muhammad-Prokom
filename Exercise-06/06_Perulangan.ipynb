{
 "cells": [
  {
   "cell_type": "markdown",
   "metadata": {},
   "source": [
    "***\n",
    "<h1 align=\"center\">Exercise 06</h1>\n",
    " \n",
    "***\n",
    "## While Loop\n",
    "## Exercise 6.1\n",
    "isilah bagian rumpang berikut. xx diganti tanggal lahir dan yy diganti menjadi bulan lahir. tandanya menyesuaikan yang lebih besar."
   ]
  },
  {
   "cell_type": "code",
   "execution_count": 1,
   "metadata": {},
   "outputs": [
    {
     "name": "stdout",
     "output_type": "stream",
     "text": [
      "Motto hidup : \"Setiap harinya harus menjadi lebih baik\"\n",
      "Hari ke- 13 harus lebih baik dari hari ke- 12\n",
      "Hari ke- 14 harus lebih baik dari hari ke- 13\n",
      "Hari ke- 15 harus lebih baik dari hari ke- 14\n",
      "Hari ke- 16 harus lebih baik dari hari ke- 15\n",
      "Hari ke- 17 harus lebih baik dari hari ke- 16\n",
      "Hari ke- 18 harus lebih baik dari hari ke- 17\n",
      "Hari ke- 19 harus lebih baik dari hari ke- 18\n",
      "Hari ke- 20 harus lebih baik dari hari ke- 19\n",
      "Hari ke- 21 harus lebih baik dari hari ke- 20\n",
      "Hari ke- 22 harus lebih baik dari hari ke- 21\n"
     ]
    }
   ],
   "source": [
    "#menentukan banyak pengulangan\n",
    "n = 21\n",
    "\n",
    "#melakukan pengulangan\n",
    "i = 12\n",
    "\n",
    "print('Motto hidup : \"Setiap harinya harus menjadi lebih baik\"')\n",
    "\n",
    "while i <= n :\n",
    "    print (\"Hari ke-\", i + 1, \"harus lebih baik dari hari ke-\", i)\n",
    "    #diisi motto kalian\n",
    "    i = i + 1 # sesuaikan dengan atas agar fungsi perulangan dapat berhenti"
   ]
  },
  {
   "cell_type": "markdown",
   "metadata": {},
   "source": [
    "## Exercise 6.2\n",
    "\n",
    "Buatlah code seperti yang dicontohkan pada modul agar user dapat menginputkan sendiri jumlah n yang diinginkan"
   ]
  },
  {
   "cell_type": "code",
   "execution_count": 2,
   "metadata": {},
   "outputs": [
    {
     "name": "stdout",
     "output_type": "stream",
     "text": [
      "Angka yang dimasukan user adalah 10\n",
      "Hasil akhir :\n",
      "1\n",
      "2\n",
      "3\n",
      "4\n",
      "5\n",
      "6\n",
      "7\n",
      "8\n",
      "9\n",
      "10\n"
     ]
    }
   ],
   "source": [
    "# Kerjakan disini\n",
    "# Menentukan banyaknya perulangan\n",
    "angka_user = int(input(\"Masukan angka : \"))\n",
    "print(\"Angka yang dimasukan user adalah\", angka_user)\n",
    "print(\"Hasil akhir :\")\n",
    "\n",
    "# Melakukan pengulangan\n",
    "i = 1\n",
    "while i <= angka_user :\n",
    "    print(i)\n",
    "    i = i + 1\n"
   ]
  },
  {
   "cell_type": "markdown",
   "metadata": {},
   "source": [
    "## Excercise 6.3\n",
    "\n",
    "isilah xx, yy, dan tanda rumpang seperti pada exercise 6.1\n"
   ]
  },
  {
   "cell_type": "code",
   "execution_count": 3,
   "metadata": {},
   "outputs": [
    {
     "name": "stdout",
     "output_type": "stream",
     "text": [
      "Baris ke-21 : Arcane (League Of Legends)\n",
      "Baris ke-20 : Arcane (League Of Legends)\n",
      "Baris ke-19 : Arcane (League Of Legends)\n",
      "Baris ke-18 : Arcane (League Of Legends)\n",
      "Baris ke-17 : Arcane (League Of Legends)\n",
      "Baris ke-16 : Arcane (League Of Legends)\n",
      "Baris ke-15 : Arcane (League Of Legends)\n",
      "Baris ke-14 : Arcane (League Of Legends)\n",
      "Baris ke-13 : Arcane (League Of Legends)\n",
      "Baris ke-12 : Arcane (League Of Legends)\n"
     ]
    }
   ],
   "source": [
    "#melakukan pengulangan\n",
    "i = 21\n",
    "\n",
    "while i >= 12 :\n",
    "    print (\"Baris ke-%d : Arcane (League Of Legends)\"%i)\n",
    "    #isi titik-titik dengan judul film favorit kalian\n",
    "    i = i - 1"
   ]
  },
  {
   "cell_type": "markdown",
   "metadata": {},
   "source": [
    "## FOR LOOP\n",
    "\n",
    "## Exercise 6.4\n",
    "\n",
    "munculkan 3 dari 7 elemen yang berada di dalam list1 dan list2\n"
   ]
  },
  {
   "cell_type": "code",
   "execution_count": 4,
   "metadata": {},
   "outputs": [
    {
     "name": "stdout",
     "output_type": "stream",
     "text": [
      "5 Nasi Liwet Yogyakarta\n",
      "6 Nasi Bogana Malang\n",
      "7 Bakso Cirebon\n"
     ]
    }
   ],
   "source": [
    "list1 = [\"Nasi Uduk\", \"Nasi Goreng\", \"Nasi Bakar\", \"Nasi Kuning\", \"Nasi Liwet\", \"Nasi Bogana\", \"Bakso\"] #masukkan 7 list makanan favorit kalian\n",
    "list2 = [\"Bandung\", \"Jakarta\", \"Solo\", \"Bali\", \"Yogyakarta\", \"Malang\", \"Cirebon\"] #masukkan 7 list kota favorit kalian\n",
    "\n",
    "for i in range(4,7) :\n",
    "    print(i+1, list1[i] , list2[i])"
   ]
  },
  {
   "cell_type": "markdown",
   "metadata": {},
   "source": [
    "## Perulangan Bersarang\n",
    "\n",
    "## Exercise 6.5"
   ]
  },
  {
   "cell_type": "code",
   "execution_count": 5,
   "metadata": {},
   "outputs": [
    {
     "name": "stdout",
     "output_type": "stream",
     "text": [
      "441 \n",
      "420 400 \n",
      "399 380 361 \n",
      "378 360 342 324 \n",
      "357 340 323 306 289 \n",
      "336 320 304 288 272 256 \n",
      "315 300 285 270 255 240 225 \n",
      "294 280 266 252 238 224 210 196 \n",
      "273 260 247 234 221 208 195 182 169 \n",
      "252 240 228 216 204 192 180 168 156 144 \n"
     ]
    }
   ],
   "source": [
    "i = 21\n",
    "while i >= 12 :\n",
    "    j = 21\n",
    "    while j >= i:\n",
    "        print(\"%d \" % (i*j), end = '')\n",
    "        j = j - 1\n",
    "    print()\n",
    "    i -= 1"
   ]
  },
  {
   "cell_type": "markdown",
   "metadata": {},
   "source": [
    "## Pernyataan Loncat\n",
    "\n",
    "## Exercise 6.\n",
    "\n",
    "Buatlah fungsi berikut agar muncul angka hingga berhenti sesuai dengan nilai qq\n",
    "qq = angka favorit kalian\n",
    "pp>qq"
   ]
  },
  {
   "cell_type": "code",
   "execution_count": 6,
   "metadata": {},
   "outputs": [
    {
     "name": "stdout",
     "output_type": "stream",
     "text": [
      "0123456789101112131415161718192021"
     ]
    }
   ],
   "source": [
    "for i in range(30):\n",
    "    print(i,end='')\n",
    "    if i == 21:\n",
    "        break"
   ]
  },
  {
   "cell_type": "markdown",
   "metadata": {},
   "source": [
    "***\n",
    "<h1 align=\"center\">WELL DONE</h1>\n",
    " \n",
    "***"
   ]
  }
 ],
 "metadata": {
  "interpreter": {
   "hash": "cd08f94adcf3cbae37fe85286256f4c2a10455ca9094fd053e9f3d3f09647223"
  },
  "kernelspec": {
   "display_name": "Python 3.9.7 64-bit",
   "language": "python",
   "name": "python3"
  },
  "language_info": {
   "codemirror_mode": {
    "name": "ipython",
    "version": 3
   },
   "file_extension": ".py",
   "mimetype": "text/x-python",
   "name": "python",
   "nbconvert_exporter": "python",
   "pygments_lexer": "ipython3",
   "version": "3.9.7"
  },
  "orig_nbformat": 4
 },
 "nbformat": 4,
 "nbformat_minor": 2
}
